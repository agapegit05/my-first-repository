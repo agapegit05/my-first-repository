{
 "cells": [
  {
   "cell_type": "markdown",
   "id": "a4ace3c3-b23d-4e8e-86e7-1659b7c1b568",
   "metadata": {},
   "source": [
    "#### GIT COMMANDS\n",
    "* git add\n",
    "* git commit-m 'commit message'\n",
    "* git push {in this always change the repository name}"
   ]
  },
  {
   "cell_type": "code",
   "execution_count": null,
   "id": "75bf5d3c-5f33-426c-a4ae-e5029dfe999c",
   "metadata": {},
   "outputs": [],
   "source": []
  }
 ],
 "metadata": {
  "kernelspec": {
   "display_name": "Python 3 (ipykernel)",
   "language": "python",
   "name": "python3"
  },
  "language_info": {
   "codemirror_mode": {
    "name": "ipython",
    "version": 3
   },
   "file_extension": ".py",
   "mimetype": "text/x-python",
   "name": "python",
   "nbconvert_exporter": "python",
   "pygments_lexer": "ipython3",
   "version": "3.12.2"
  }
 },
 "nbformat": 4,
 "nbformat_minor": 5
}
