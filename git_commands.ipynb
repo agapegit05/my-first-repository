{
 "cells": [
  {
   "cell_type": "markdown",
   "id": "508a546e-ab9c-448e-8323-b96848b3f342",
   "metadata": {},
   "source": [
    "#### 1. Setting up a virtual Environment\n",
    "To set up a virtual environment, run the below commands considering if you are a windows user or mac user:\n",
    "\n",
    "* Windows user, run conda env create -f win_environment.yml\n",
    "* Mac users, run conda env create -f mac_environment.yml\n"
   ]
  },
  {
   "cell_type": "markdown",
   "id": "967738c5-0bfa-4614-931a-116557d8c474",
   "metadata": {},
   "source": [
    "#### 2.Command for Activating a Virtual Environment (learn-env)\n",
    "The command for activating a virtual environment is conda activate learn-env\n",
    "\n",
    "Note:\n",
    "\n",
    "* Before activating a virtual environment, confirm that there's no active environment."
   ]
  }
 ],
 "metadata": {
  "kernelspec": {
   "display_name": "Python 3 (ipykernel)",
   "language": "python",
   "name": "python3"
  },
  "language_info": {
   "codemirror_mode": {
    "name": "ipython",
    "version": 3
   },
   "file_extension": ".py",
   "mimetype": "text/x-python",
   "name": "python",
   "nbconvert_exporter": "python",
   "pygments_lexer": "ipython3",
   "version": "3.12.7"
  }
 },
 "nbformat": 4,
 "nbformat_minor": 5
}
